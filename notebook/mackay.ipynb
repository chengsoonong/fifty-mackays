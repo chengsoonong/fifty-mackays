{
 "cells": [
  {
   "cell_type": "raw",
   "id": "1e00c4da-1ec9-4402-a28b-6ad4b241b3a8",
   "metadata": {},
   "source": [
    "---\n",
    "title: \"What is one Mackay?\"\n",
    "format: \n",
    "  html:\n",
    "    code-fold: true\n",
    "jupyter: python3\n",
    "---"
   ]
  },
  {
   "cell_type": "markdown",
   "id": "8776c2d1-722b-4e14-8b78-4b3f50f45bd4",
   "metadata": {},
   "source": [
    "## One Mackay is a human sized unit of power\n",
    "\n",
    "Sir David Mackay proposed that 40W=1kWh/d is a nice human sized unit in his groundbreaking book \"Without Hot Air\". We propose to name a new unit in Sir David's honour, called the Mackay, 1 Mackay = 1 kWh/d. The 2000W society argues that 2kW is an equitable amount of power for society. This implies that we should be targetting about 50 Mackays person. However, for personal planning purposes, 60 Mackays (=2.3kW) is a more [practical number](https://en.wikipedia.org/wiki/60_(number)) because 60 can be divided in many ways.\n",
    "\n",
    "Therefore 60 Mackays is a useful way to think about household power use."
   ]
  },
  {
   "cell_type": "code",
   "execution_count": 1,
   "id": "2d680db0-67dd-43b9-b1c1-6e9df46f342e",
   "metadata": {},
   "outputs": [
    {
     "name": "stdout",
     "output_type": "stream",
     "text": [
      "1 [kW.h/d]\n"
     ]
    }
   ],
   "source": [
    "from barril.units import Scalar\n",
    "\n",
    "\n",
    "x2 = Scalar(1, \"kW.h\")\n",
    "t1 = Scalar(1, \"d\")\n",
    "print(x2/t1)"
   ]
  },
  {
   "cell_type": "code",
   "execution_count": 2,
   "id": "9da1060b-e6f1-4815-a2d9-4006f5855188",
   "metadata": {},
   "outputs": [
    {
     "name": "stdout",
     "output_type": "stream",
     "text": [
      "There are 86400 [s] seconds per day\n",
      "There is 3.456e+06 [s] Joules if we use 40 Watts for a whole day\n",
      "There is 3600000 Joules in one kilowatt hour (kWh)\n"
     ]
    }
   ],
   "source": [
    "seconds_per_day = Scalar(60*60*24, \"s\")\n",
    "joules_per_kwh = 60*60*1000\n",
    "print(f'There are {seconds_per_day} seconds per day')\n",
    "print(f'There is {40*seconds_per_day} Joules if we use 40 Watts for a whole day')\n",
    "print(f'There is {joules_per_kwh} Joules in one kilowatt hour (kWh)')\n"
   ]
  },
  {
   "cell_type": "code",
   "execution_count": 3,
   "id": "eff1dcc2-7ca8-4e4d-acfa-14ee77c65daa",
   "metadata": {},
   "outputs": [
    {
     "name": "stdout",
     "output_type": "stream",
     "text": [
      "40 [W] Watts is the same as 0.96 [W.s] kWh/d.\n",
      "Therefore we define 1 Mackay = 1 kWh/d = 38.4 [W] Watts.\n"
     ]
    }
   ],
   "source": [
    "forty_watts = Scalar(40, \"W\")\n",
    "print(f'{forty_watts} Watts is the same as {forty_watts*seconds_per_day/joules_per_kwh} kWh/d.')\n",
    "\n",
    "mackay = Scalar(0.96*40, \"W\")\n",
    "print(f'Therefore we define 1 Mackay = 1 kWh/d = {mackay} Watts.')"
   ]
  },
  {
   "cell_type": "code",
   "execution_count": 4,
   "id": "939c0515-9e15-416a-a0b4-032b21d44ee4",
   "metadata": {},
   "outputs": [
    {
     "name": "stdout",
     "output_type": "stream",
     "text": [
      "Therefore using 60 Mackays for the whole day is 1.99066e+08 [W.s] Joules.\n",
      "This is the same as using 2304 [W] Watts all day long.\n"
     ]
    }
   ],
   "source": [
    "power_budget = 60\n",
    "energy_per_day_budget = power_budget*mackay*seconds_per_day\n",
    "print(f'Therefore using {power_budget} Mackays for the whole day is {energy_per_day_budget} Joules.')\n",
    "print(f'This is the same as using {energy_per_day_budget/seconds_per_day} Watts all day long.')"
   ]
  }
 ],
 "metadata": {
  "kernelspec": {
   "display_name": "Python 3 (ipykernel)",
   "language": "python",
   "name": "python3"
  },
  "language_info": {
   "codemirror_mode": {
    "name": "ipython",
    "version": 3
   },
   "file_extension": ".py",
   "mimetype": "text/x-python",
   "name": "python",
   "nbconvert_exporter": "python",
   "pygments_lexer": "ipython3",
   "version": "3.10.4"
  }
 },
 "nbformat": 4,
 "nbformat_minor": 5
}
